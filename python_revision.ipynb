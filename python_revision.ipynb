{
  "nbformat": 4,
  "nbformat_minor": 0,
  "metadata": {
    "colab": {
      "name": "python_revision.ipynb",
      "provenance": [],
      "collapsed_sections": [],
      "authorship_tag": "ABX9TyPBWc9wrtf5pYC68KC1QCMZ",
      "include_colab_link": true
    },
    "kernelspec": {
      "name": "python3",
      "display_name": "Python 3"
    }
  },
  "cells": [
    {
      "cell_type": "markdown",
      "metadata": {
        "id": "view-in-github",
        "colab_type": "text"
      },
      "source": [
        "<a href=\"https://colab.research.google.com/github/pouyapanahandeh/python3-ref/blob/master/python_revision.ipynb\" target=\"_parent\"><img src=\"https://colab.research.google.com/assets/colab-badge.svg\" alt=\"Open In Colab\"/></a>"
      ]
    },
    {
      "cell_type": "markdown",
      "metadata": {
        "id": "86RqgNz4yMzG",
        "colab_type": "text"
      },
      "source": [
        "**Python Numbers**"
      ]
    },
    {
      "cell_type": "code",
      "metadata": {
        "id": "_C1jEiTPyCDi",
        "colab_type": "code",
        "colab": {
          "base_uri": "https://localhost:8080/",
          "height": 170
        },
        "outputId": "55f3a6b0-72a1-460c-fc71-21ca8325aa17"
      },
      "source": [
        "# print the number\n",
        "print(15)\n",
        "\n",
        "# Basic Arithmetic\n",
        "print(5 + 5)\n",
        "x = 10 + 15\n",
        "print(x)\n",
        "\n",
        "n = 1\n",
        "p = 1\n",
        "pn = n + p\n",
        "print(pn)\n",
        "\n",
        "# multiplication\n",
        "print(5 * 5)\n",
        "\n",
        "# float devision\n",
        "print(2/3)\n",
        "\n",
        "# integer devision\n",
        "print(2 // 3)\n",
        "\n",
        "# module operator, shows the quotient\n",
        "print(20 % 3)\n",
        "\n",
        "# power function\n",
        "print(2 ** 4)"
      ],
      "execution_count": 13,
      "outputs": [
        {
          "output_type": "stream",
          "text": [
            "15\n",
            "10\n",
            "25\n",
            "2\n",
            "25\n",
            "0.6666666666666666\n",
            "0\n",
            "2\n",
            "16\n"
          ],
          "name": "stdout"
        }
      ]
    },
    {
      "cell_type": "markdown",
      "metadata": {
        "id": "iPWv9oyx5bV0",
        "colab_type": "text"
      },
      "source": [
        "**Python strings**"
      ]
    },
    {
      "cell_type": "code",
      "metadata": {
        "id": "_0tJlmM15pSQ",
        "colab_type": "code",
        "colab": {
          "base_uri": "https://localhost:8080/",
          "height": 85
        },
        "outputId": "88792dc0-7f38-4884-c48d-f2b27d285f10"
      },
      "source": [
        "# Triple quote string, useful for printing multiple line\n",
        "print('''This is the multiple line printer''')\n",
        "\n",
        "# double quoted string\n",
        "print(\"This is a string\")\n",
        "\n",
        "# single quoted string, same as the double quoted\n",
        "print('This is a string')\n",
        "\n",
        "h = \"message one\"\n",
        "o = \" is delivered\"\n",
        "message = h + o\n",
        "print(message)\n",
        "\n",
        "\n"
      ],
      "execution_count": 16,
      "outputs": [
        {
          "output_type": "stream",
          "text": [
            "This is the multiple line printer\n",
            "This is a string\n",
            "This is a string\n",
            "message one is delivered\n"
          ],
          "name": "stdout"
        }
      ]
    },
    {
      "cell_type": "markdown",
      "metadata": {
        "id": "iFT7EHaJKU2V",
        "colab_type": "text"
      },
      "source": [
        "**Python Logic**"
      ]
    },
    {
      "cell_type": "code",
      "metadata": {
        "id": "mxraXZRCKYiO",
        "colab_type": "code",
        "colab": {
          "base_uri": "https://localhost:8080/",
          "height": 187
        },
        "outputId": "47341682-cdc0-4b7a-957a-c8e684d9baa7"
      },
      "source": [
        "# same as OR operator,(0 or 1 => 1) it will print true  ||\n",
        "print(True or False)\n",
        "\n",
        "# same as and operation,(0 and 1 => 0) it will print false &&\n",
        "print(True and False)\n",
        "\n",
        "# 'Not' operator\n",
        "print(not False)\n",
        "\n",
        "# we have is, to check if the two object is same or not\n",
        "print(True is not False)\n",
        "\n",
        "# the following condition will print True or False\n",
        "print(3 > 2)  # true\n",
        "print(3 == 2) # false\n",
        "\n",
        "# compare string\n",
        "string1 = \"Hello Worlds!\"\n",
        "string2 = string1\n",
        "\n",
        "print(string1 == string2)\n",
        "print(string1 is string2)\n",
        "print(2 < 3 is False and string1 is string2)\n",
        "print((2 < 3) is (True and string1 is string2))\n",
        "\n"
      ],
      "execution_count": 29,
      "outputs": [
        {
          "output_type": "stream",
          "text": [
            "True\n",
            "False\n",
            "True\n",
            "True\n",
            "True\n",
            "False\n",
            "True\n",
            "True\n",
            "False\n",
            "True\n"
          ],
          "name": "stdout"
        }
      ]
    },
    {
      "cell_type": "markdown",
      "metadata": {
        "id": "caSCFD17IhTY",
        "colab_type": "text"
      },
      "source": [
        "**Python if-else**"
      ]
    },
    {
      "cell_type": "code",
      "metadata": {
        "id": "kfBN2VuKIlD5",
        "colab_type": "code",
        "colab": {
          "base_uri": "https://localhost:8080/",
          "height": 153
        },
        "outputId": "5de65749-b900-4d7f-dc06-0f7bd15d0173"
      },
      "source": [
        "a = 22\n",
        "b = 24 \n",
        "if b > a:\n",
        "  print(\"B is bigger than A\")\n",
        "\n",
        "if a > b:\n",
        "  print(\"A is bigger than B\")\n",
        "else:\n",
        "  print(\"B is bigger than A\")\n",
        "\n",
        "l = 33\n",
        "p = 22\n",
        "c = 33\n",
        "\n",
        "if l == c:\n",
        "  print(\"L and C are equal.\")\n",
        "elif l > c:\n",
        "  print(\"L is bigger than C.\")\n",
        "else:\n",
        "  print(\"There is something wrong.\")\n",
        "\n",
        "EXPRESSION = True\n",
        "ELIF_EXPRESSION = True\n",
        "\n",
        "if EXPRESSION:\n",
        "  print(\"Execute Expression.\")\n",
        "elif ELIF_EXPRESSION:\n",
        "  print(\"Execute ELIF_EXPRESSION\")\n",
        "else:\n",
        "  print(\"There is nothing to print\")\n",
        "\n",
        "# short version of if condition\n",
        "if l > p: print(\"L is bigger than C\")\n",
        "\n",
        "# Three result of short hand loop\n",
        "print(\"L\") if l > p else print(\"=\") if l == p else print(\"L is smaller than P\")\n",
        "Print(\"L\") if l > c else print(\"=\") if l == c else print(\"L is smaller than C\")\n",
        "print(\"P\") if p > b else print(\"=\") if p == b else print(\"P is smaller than B\")\n"
      ],
      "execution_count": 42,
      "outputs": [
        {
          "output_type": "stream",
          "text": [
            "B is bigger than A\n",
            "B is bigger than A\n",
            "L and C are equal.\n",
            "Execute Expression.\n",
            "L is bigger than C\n",
            "L\n",
            "=\n",
            "P is smaller than B\n"
          ],
          "name": "stdout"
        }
      ]
    },
    {
      "cell_type": "markdown",
      "metadata": {
        "id": "M7P4PNBBPTWs",
        "colab_type": "text"
      },
      "source": [
        "**Python Loop**"
      ]
    },
    {
      "cell_type": "code",
      "metadata": {
        "id": "1OKjKlRxPXQ5",
        "colab_type": "code",
        "colab": {
          "base_uri": "https://localhost:8080/",
          "height": 697
        },
        "outputId": "f7a202b9-9e43-403e-d1a5-097e8f22eaf9"
      },
      "source": [
        "import time\n",
        "\n",
        "# for loop\n",
        "# 'for' iterate an iteratable object, for example range\n",
        "# if it's not define range start from 0 and end at n - 1\n",
        "sum = 0\n",
        "\n",
        "for i in range(5):\n",
        "  # to print element in one line instead of multiple line we can use the following way to print element in one line\n",
        "  print(i , end=\" \")\n",
        "  sum += i\n",
        "  print(sum)\n",
        "\n",
        "for i in range(10):\n",
        "  print(\"-\", end=\" \")\n",
        "  # time function, to rest for 1 second after each print\n",
        "  time.sleep(1)\n",
        "\n",
        "print()\n",
        "\n",
        "for i in range(0, 30):\n",
        "  if i % 2 == 0:\n",
        "    print(\"Even\")\n",
        "  else:\n",
        "    print(\"Odd\")\n",
        "\n",
        "print()\n",
        "\n",
        "# while loop\n",
        "z = 0 \n",
        "while(z < 10):\n",
        "  print(z, end=\" \")\n",
        "  z +=1\n",
        "\n",
        "print(\"\\n\")\n",
        "\n",
        "user_name = \"Here you can see the future\"\n",
        "\n",
        "for h in user_name:\n",
        "  print(h, end=\" \")\n",
        "  time.sleep(1)"
      ],
      "execution_count": 3,
      "outputs": [
        {
          "output_type": "stream",
          "text": [
            "0 0\n",
            "1 1\n",
            "2 3\n",
            "3 6\n",
            "4 10\n",
            "- - - - - - - - - - \n",
            "Even\n",
            "Odd\n",
            "Even\n",
            "Odd\n",
            "Even\n",
            "Odd\n",
            "Even\n",
            "Odd\n",
            "Even\n",
            "Odd\n",
            "Even\n",
            "Odd\n",
            "Even\n",
            "Odd\n",
            "Even\n",
            "Odd\n",
            "Even\n",
            "Odd\n",
            "Even\n",
            "Odd\n",
            "Even\n",
            "Odd\n",
            "Even\n",
            "Odd\n",
            "Even\n",
            "Odd\n",
            "Even\n",
            "Odd\n",
            "Even\n",
            "Odd\n",
            "\n",
            "0 1 2 3 4 5 6 7 8 9 \n",
            "\n",
            "H e r e   y o u   c a n   s e e   t h e   f u t u r e "
          ],
          "name": "stdout"
        }
      ]
    }
  ]
}