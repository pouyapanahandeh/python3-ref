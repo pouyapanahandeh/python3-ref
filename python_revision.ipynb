{
  "nbformat": 4,
  "nbformat_minor": 0,
  "metadata": {
    "colab": {
      "name": "python_revision.ipynb",
      "provenance": [],
      "collapsed_sections": [],
      "authorship_tag": "ABX9TyOWFl76HVcM3lYcWnHH0+ga",
      "include_colab_link": true
    },
    "kernelspec": {
      "name": "python3",
      "display_name": "Python 3"
    }
  },
  "cells": [
    {
      "cell_type": "markdown",
      "metadata": {
        "id": "view-in-github",
        "colab_type": "text"
      },
      "source": [
        "<a href=\"https://colab.research.google.com/github/pouyapanahandeh/python3-ref/blob/master/python_revision.ipynb\" target=\"_parent\"><img src=\"https://colab.research.google.com/assets/colab-badge.svg\" alt=\"Open In Colab\"/></a>"
      ]
    },
    {
      "cell_type": "markdown",
      "metadata": {
        "id": "86RqgNz4yMzG",
        "colab_type": "text"
      },
      "source": [
        "**Python Numbers**"
      ]
    },
    {
      "cell_type": "code",
      "metadata": {
        "id": "_C1jEiTPyCDi",
        "colab_type": "code",
        "outputId": "55f3a6b0-72a1-460c-fc71-21ca8325aa17",
        "colab": {
          "base_uri": "https://localhost:8080/",
          "height": 170
        }
      },
      "source": [
        "# print the number\n",
        "print(15)\n",
        "\n",
        "# Basic Arithmetic\n",
        "print(5 + 5)\n",
        "x = 10 + 15\n",
        "print(x)\n",
        "\n",
        "n = 1\n",
        "p = 1\n",
        "pn = n + p\n",
        "print(pn)\n",
        "\n",
        "# multiplication\n",
        "print(5 * 5)\n",
        "\n",
        "# float devision\n",
        "print(2/3)\n",
        "\n",
        "# integer devision\n",
        "print(2 // 3)\n",
        "\n",
        "# module operator, shows the quotient\n",
        "print(20 % 3)\n",
        "\n",
        "# power function\n",
        "print(2 ** 4)"
      ],
      "execution_count": 0,
      "outputs": [
        {
          "output_type": "stream",
          "text": [
            "15\n",
            "10\n",
            "25\n",
            "2\n",
            "25\n",
            "0.6666666666666666\n",
            "0\n",
            "2\n",
            "16\n"
          ],
          "name": "stdout"
        }
      ]
    },
    {
      "cell_type": "markdown",
      "metadata": {
        "id": "iPWv9oyx5bV0",
        "colab_type": "text"
      },
      "source": [
        "**Python strings**"
      ]
    },
    {
      "cell_type": "code",
      "metadata": {
        "id": "_0tJlmM15pSQ",
        "colab_type": "code",
        "outputId": "88792dc0-7f38-4884-c48d-f2b27d285f10",
        "colab": {
          "base_uri": "https://localhost:8080/",
          "height": 85
        }
      },
      "source": [
        "# Triple quote string, useful for printing multiple line\n",
        "print('''This is the multiple line printer''')\n",
        "\n",
        "# double quoted string\n",
        "print(\"This is a string\")\n",
        "\n",
        "# single quoted string, same as the double quoted\n",
        "print('This is a string')\n",
        "\n",
        "h = \"message one\"\n",
        "o = \" is delivered\"\n",
        "message = h + o\n",
        "print(message)\n",
        "\n",
        "\n"
      ],
      "execution_count": 0,
      "outputs": [
        {
          "output_type": "stream",
          "text": [
            "This is the multiple line printer\n",
            "This is a string\n",
            "This is a string\n",
            "message one is delivered\n"
          ],
          "name": "stdout"
        }
      ]
    },
    {
      "cell_type": "markdown",
      "metadata": {
        "id": "iFT7EHaJKU2V",
        "colab_type": "text"
      },
      "source": [
        "**Python Logic**"
      ]
    },
    {
      "cell_type": "code",
      "metadata": {
        "id": "mxraXZRCKYiO",
        "colab_type": "code",
        "outputId": "47341682-cdc0-4b7a-957a-c8e684d9baa7",
        "colab": {
          "base_uri": "https://localhost:8080/",
          "height": 187
        }
      },
      "source": [
        "# same as OR operator,(0 or 1 => 1) it will print true  ||\n",
        "print(True or False)\n",
        "\n",
        "# same as and operation,(0 and 1 => 0) it will print false &&\n",
        "print(True and False)\n",
        "\n",
        "# 'Not' operator\n",
        "print(not False)\n",
        "\n",
        "# we have is, to check if the two object is same or not\n",
        "print(True is not False)\n",
        "\n",
        "# the following condition will print True or False\n",
        "print(3 > 2)  # true\n",
        "print(3 == 2) # false\n",
        "\n",
        "# compare string\n",
        "string1 = \"Hello Worlds!\"\n",
        "string2 = string1\n",
        "\n",
        "print(string1 == string2)\n",
        "print(string1 is string2)\n",
        "print(2 < 3 is False and string1 is string2)\n",
        "print((2 < 3) is (True and string1 is string2))\n",
        "\n"
      ],
      "execution_count": 0,
      "outputs": [
        {
          "output_type": "stream",
          "text": [
            "True\n",
            "False\n",
            "True\n",
            "True\n",
            "True\n",
            "False\n",
            "True\n",
            "True\n",
            "False\n",
            "True\n"
          ],
          "name": "stdout"
        }
      ]
    },
    {
      "cell_type": "markdown",
      "metadata": {
        "id": "caSCFD17IhTY",
        "colab_type": "text"
      },
      "source": [
        "**Python if-else**"
      ]
    },
    {
      "cell_type": "code",
      "metadata": {
        "id": "kfBN2VuKIlD5",
        "colab_type": "code",
        "outputId": "5de65749-b900-4d7f-dc06-0f7bd15d0173",
        "colab": {
          "base_uri": "https://localhost:8080/",
          "height": 153
        }
      },
      "source": [
        "a = 22\n",
        "b = 24 \n",
        "if b > a:\n",
        "  print(\"B is bigger than A\")\n",
        "\n",
        "if a > b:\n",
        "  print(\"A is bigger than B\")\n",
        "else:\n",
        "  print(\"B is bigger than A\")\n",
        "\n",
        "l = 33\n",
        "p = 22\n",
        "c = 33\n",
        "\n",
        "if l == c:\n",
        "  print(\"L and C are equal.\")\n",
        "elif l > c:\n",
        "  print(\"L is bigger than C.\")\n",
        "else:\n",
        "  print(\"There is something wrong.\")\n",
        "\n",
        "EXPRESSION = True\n",
        "ELIF_EXPRESSION = True\n",
        "\n",
        "if EXPRESSION:\n",
        "  print(\"Execute Expression.\")\n",
        "elif ELIF_EXPRESSION:\n",
        "  print(\"Execute ELIF_EXPRESSION\")\n",
        "else:\n",
        "  print(\"There is nothing to print\")\n",
        "\n",
        "# short version of if condition\n",
        "if l > p: print(\"L is bigger than C\")\n",
        "\n",
        "# Three result of short hand loop\n",
        "print(\"L\") if l > p else print(\"=\") if l == p else print(\"L is smaller than P\")\n",
        "Print(\"L\") if l > c else print(\"=\") if l == c else print(\"L is smaller than C\")\n",
        "print(\"P\") if p > b else print(\"=\") if p == b else print(\"P is smaller than B\")\n"
      ],
      "execution_count": 0,
      "outputs": [
        {
          "output_type": "stream",
          "text": [
            "B is bigger than A\n",
            "B is bigger than A\n",
            "L and C are equal.\n",
            "Execute Expression.\n",
            "L is bigger than C\n",
            "L\n",
            "=\n",
            "P is smaller than B\n"
          ],
          "name": "stdout"
        }
      ]
    },
    {
      "cell_type": "markdown",
      "metadata": {
        "id": "M7P4PNBBPTWs",
        "colab_type": "text"
      },
      "source": [
        "**Python Loop**"
      ]
    },
    {
      "cell_type": "code",
      "metadata": {
        "id": "1OKjKlRxPXQ5",
        "colab_type": "code",
        "outputId": "682c1460-4cd9-454c-c5e9-932845ebfbfe",
        "colab": {
          "base_uri": "https://localhost:8080/",
          "height": 697
        }
      },
      "source": [
        "import time\n",
        "\n",
        "# for loop\n",
        "# 'for' iterate an iteratable object, for example range\n",
        "# if it's not define range start from 0 and end at n - 1\n",
        "sum = 0\n",
        "\n",
        "for i in range(5):\n",
        "  # to print element in one line instead of multiple line we can use the following way to print element in one line\n",
        "  print(i , end=\" \")\n",
        "  sum += i\n",
        "  print(sum)\n",
        "\n",
        "for i in range(10):\n",
        "  print(\"-\", end=\" \")\n",
        "  # time function, to rest for 1 second after each print\n",
        "  time.sleep(1)\n",
        "\n",
        "print()\n",
        "\n",
        "for i in range(0, 30):\n",
        "  if i % 2 == 0:\n",
        "    print(\"Even\")\n",
        "  else:\n",
        "    print(\"Odd\")\n",
        "\n",
        "print()\n",
        "\n",
        "# while loop\n",
        "z = 0 \n",
        "while(z < 10):\n",
        "  print(z, end=\" \")\n",
        "  z +=1\n",
        "\n",
        "print(\"\\n\")\n",
        "\n",
        "user_name = \"Here you can see the future\"\n",
        "\n",
        "for h in user_name:\n",
        "  print(h, end=\" \")\n",
        "  time.sleep(1)"
      ],
      "execution_count": 1,
      "outputs": [
        {
          "output_type": "stream",
          "text": [
            "0 0\n",
            "1 1\n",
            "2 3\n",
            "3 6\n",
            "4 10\n",
            "- - - - - - - - - - \n",
            "Even\n",
            "Odd\n",
            "Even\n",
            "Odd\n",
            "Even\n",
            "Odd\n",
            "Even\n",
            "Odd\n",
            "Even\n",
            "Odd\n",
            "Even\n",
            "Odd\n",
            "Even\n",
            "Odd\n",
            "Even\n",
            "Odd\n",
            "Even\n",
            "Odd\n",
            "Even\n",
            "Odd\n",
            "Even\n",
            "Odd\n",
            "Even\n",
            "Odd\n",
            "Even\n",
            "Odd\n",
            "Even\n",
            "Odd\n",
            "Even\n",
            "Odd\n",
            "\n",
            "0 1 2 3 4 5 6 7 8 9 \n",
            "\n",
            "H e r e   y o u   c a n   s e e   t h e   f u t u r e "
          ],
          "name": "stdout"
        }
      ]
    },
    {
      "cell_type": "markdown",
      "metadata": {
        "id": "ROtQQ85UaaPv",
        "colab_type": "text"
      },
      "source": [
        "**Python function**"
      ]
    },
    {
      "cell_type": "code",
      "metadata": {
        "id": "Cmn1oermaW9W",
        "colab_type": "code",
        "colab": {
          "base_uri": "https://localhost:8080/",
          "height": 238
        },
        "outputId": "910fcc98-06d5-4b3d-ca90-efab7b7e8811"
      },
      "source": [
        "def message():\n",
        "  print(\"Message one By calling function.\")\n",
        "\n",
        "message()\n",
        "\n",
        "def welcome_message(fname):\n",
        "  print(\"Dear \" +  fname + \" welcome to the application.\")\n",
        "\n",
        "welcome_message(\"Negar\")\n",
        "\n",
        "def contact_info(email, phone_number):\n",
        "  print(\"Email: \" + email + \"\\tPhone: \" + phone_number)\n",
        "\n",
        "contact_info(\"panahandehpooya@gmail.com\", \"00123487698\")\n",
        "\n",
        "# passing multiple argument to one function.\n",
        "def fav_child(*kids):\n",
        "  print(\"the fav child of family is \" + kids[1])\n",
        "\n",
        "fav_child(\"Pouya\", \"Mohammad\")\n",
        "\n",
        "# passing arguments with the key = value syntax\n",
        "def my_function(child3, child2, child1):\n",
        "  print(\"The youngest child is \" + child1)\n",
        "\n",
        "my_function(child1=\"Pouya\", child2=\"Mohammad\", child3=\"Bozorgmehr\")\n",
        "\n",
        "# passing dictionary of arguments\n",
        "def multi_func(**kid):\n",
        "  print(\"User information: \" + kid[\"first_name\"] + \" \" + kid[\"last_name\"])\n",
        "\n",
        "multi_func(first_name=\"Pouya\", last_name=\"Panahandeh\")\n",
        "\n",
        "# function with default value\n",
        "def user_function(country = \"Iran\"):\n",
        "  print(\"I am from \" + country)\n",
        "\n",
        "user_function()\n",
        "user_function(\"Isfahan\")\n",
        "user_function(\"Tehran \\n\")\n",
        "\n",
        "\n",
        "# passing list as an argument in function\n",
        "def new_function(food):\n",
        "  for item in food:\n",
        "    print(item, end=\" , \")\n",
        "\n",
        "# creating list of fruits\n",
        "fruits = [\"Apple\", \"Orange\", \"Banana\"]\n",
        "new_function(fruits)\n",
        "\n",
        "\n",
        "def return_function(x):\n",
        "  return x * 5\n",
        "\n",
        "print(\"\\n\")\n",
        "print(return_function(5))"
      ],
      "execution_count": 12,
      "outputs": [
        {
          "output_type": "stream",
          "text": [
            "Message one By calling function.\n",
            "Dear Negar welcome to the application.\n",
            "Email: panahandehpooya@gmail.com\tPhone: 00123487698\n",
            "the fav child of family is Mohammad\n",
            "The youngest child is Pouya\n",
            "User information: Pouya Panahandeh\n",
            "I am from Iran\n",
            "I am from Isfahan\n",
            "I am from Tehran \n",
            "\n",
            "Apple , Orange , Banana , \n",
            "\n",
            "25\n"
          ],
          "name": "stdout"
        }
      ]
    }
  ]
}