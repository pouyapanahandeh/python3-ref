{
  "nbformat": 4,
  "nbformat_minor": 0,
  "metadata": {
    "colab": {
      "name": "python_revision.ipynb",
      "provenance": [],
      "collapsed_sections": [],
      "authorship_tag": "ABX9TyORAZ4A8EUDOXnH0RtXgnA3",
      "include_colab_link": true
    },
    "kernelspec": {
      "name": "python3",
      "display_name": "Python 3"
    }
  },
  "cells": [
    {
      "cell_type": "markdown",
      "metadata": {
        "id": "view-in-github",
        "colab_type": "text"
      },
      "source": [
        "<a href=\"https://colab.research.google.com/github/pouyapanahandeh/python3-ref/blob/master/python_revision.ipynb\" target=\"_parent\"><img src=\"https://colab.research.google.com/assets/colab-badge.svg\" alt=\"Open In Colab\"/></a>"
      ]
    },
    {
      "cell_type": "markdown",
      "metadata": {
        "id": "86RqgNz4yMzG",
        "colab_type": "text"
      },
      "source": [
        "**Python Numbers**"
      ]
    },
    {
      "cell_type": "code",
      "metadata": {
        "id": "_C1jEiTPyCDi",
        "colab_type": "code",
        "outputId": "55f3a6b0-72a1-460c-fc71-21ca8325aa17",
        "colab": {
          "base_uri": "https://localhost:8080/",
          "height": 170
        }
      },
      "source": [
        "# print the number\n",
        "print(15)\n",
        "\n",
        "# Basic Arithmetic\n",
        "print(5 + 5)\n",
        "x = 10 + 15\n",
        "print(x)\n",
        "\n",
        "n = 1\n",
        "p = 1\n",
        "pn = n + p\n",
        "print(pn)\n",
        "\n",
        "# multiplication\n",
        "print(5 * 5)\n",
        "\n",
        "# float devision\n",
        "print(2/3)\n",
        "\n",
        "# integer devision\n",
        "print(2 // 3)\n",
        "\n",
        "# module operator, shows the quotient\n",
        "print(20 % 3)\n",
        "\n",
        "# power function\n",
        "print(2 ** 4)"
      ],
      "execution_count": 0,
      "outputs": [
        {
          "output_type": "stream",
          "text": [
            "15\n",
            "10\n",
            "25\n",
            "2\n",
            "25\n",
            "0.6666666666666666\n",
            "0\n",
            "2\n",
            "16\n"
          ],
          "name": "stdout"
        }
      ]
    },
    {
      "cell_type": "markdown",
      "metadata": {
        "id": "iPWv9oyx5bV0",
        "colab_type": "text"
      },
      "source": [
        "**Python strings**"
      ]
    },
    {
      "cell_type": "code",
      "metadata": {
        "id": "_0tJlmM15pSQ",
        "colab_type": "code",
        "outputId": "88792dc0-7f38-4884-c48d-f2b27d285f10",
        "colab": {
          "base_uri": "https://localhost:8080/",
          "height": 85
        }
      },
      "source": [
        "# Triple quote string, useful for printing multiple line\n",
        "print('''This is the multiple line printer''')\n",
        "\n",
        "# double quoted string\n",
        "print(\"This is a string\")\n",
        "\n",
        "# single quoted string, same as the double quoted\n",
        "print('This is a string')\n",
        "\n",
        "h = \"message one\"\n",
        "o = \" is delivered\"\n",
        "message = h + o\n",
        "print(message)\n",
        "\n",
        "\n"
      ],
      "execution_count": 0,
      "outputs": [
        {
          "output_type": "stream",
          "text": [
            "This is the multiple line printer\n",
            "This is a string\n",
            "This is a string\n",
            "message one is delivered\n"
          ],
          "name": "stdout"
        }
      ]
    },
    {
      "cell_type": "markdown",
      "metadata": {
        "id": "iFT7EHaJKU2V",
        "colab_type": "text"
      },
      "source": [
        "**Python Logic**"
      ]
    },
    {
      "cell_type": "code",
      "metadata": {
        "id": "mxraXZRCKYiO",
        "colab_type": "code",
        "outputId": "47341682-cdc0-4b7a-957a-c8e684d9baa7",
        "colab": {
          "base_uri": "https://localhost:8080/",
          "height": 187
        }
      },
      "source": [
        "# same as OR operator,(0 or 1 => 1) it will print true  ||\n",
        "print(True or False)\n",
        "\n",
        "# same as and operation,(0 and 1 => 0) it will print false &&\n",
        "print(True and False)\n",
        "\n",
        "# 'Not' operator\n",
        "print(not False)\n",
        "\n",
        "# we have is, to check if the two object is same or not\n",
        "print(True is not False)\n",
        "\n",
        "# the following condition will print True or False\n",
        "print(3 > 2)  # true\n",
        "print(3 == 2) # false\n",
        "\n",
        "# compare string\n",
        "string1 = \"Hello Worlds!\"\n",
        "string2 = string1\n",
        "\n",
        "print(string1 == string2)\n",
        "print(string1 is string2)\n",
        "print(2 < 3 is False and string1 is string2)\n",
        "print((2 < 3) is (True and string1 is string2))\n",
        "\n"
      ],
      "execution_count": 0,
      "outputs": [
        {
          "output_type": "stream",
          "text": [
            "True\n",
            "False\n",
            "True\n",
            "True\n",
            "True\n",
            "False\n",
            "True\n",
            "True\n",
            "False\n",
            "True\n"
          ],
          "name": "stdout"
        }
      ]
    },
    {
      "cell_type": "markdown",
      "metadata": {
        "id": "caSCFD17IhTY",
        "colab_type": "text"
      },
      "source": [
        "**Python if-else**"
      ]
    },
    {
      "cell_type": "code",
      "metadata": {
        "id": "kfBN2VuKIlD5",
        "colab_type": "code",
        "outputId": "5de65749-b900-4d7f-dc06-0f7bd15d0173",
        "colab": {
          "base_uri": "https://localhost:8080/",
          "height": 153
        }
      },
      "source": [
        "a = 22\n",
        "b = 24 \n",
        "if b > a:\n",
        "  print(\"B is bigger than A\")\n",
        "\n",
        "if a > b:\n",
        "  print(\"A is bigger than B\")\n",
        "else:\n",
        "  print(\"B is bigger than A\")\n",
        "\n",
        "l = 33\n",
        "p = 22\n",
        "c = 33\n",
        "\n",
        "if l == c:\n",
        "  print(\"L and C are equal.\")\n",
        "elif l > c:\n",
        "  print(\"L is bigger than C.\")\n",
        "else:\n",
        "  print(\"There is something wrong.\")\n",
        "\n",
        "EXPRESSION = True\n",
        "ELIF_EXPRESSION = True\n",
        "\n",
        "if EXPRESSION:\n",
        "  print(\"Execute Expression.\")\n",
        "elif ELIF_EXPRESSION:\n",
        "  print(\"Execute ELIF_EXPRESSION\")\n",
        "else:\n",
        "  print(\"There is nothing to print\")\n",
        "\n",
        "# short version of if condition\n",
        "if l > p: print(\"L is bigger than C\")\n",
        "\n",
        "# Three result of short hand loop\n",
        "print(\"L\") if l > p else print(\"=\") if l == p else print(\"L is smaller than P\")\n",
        "Print(\"L\") if l > c else print(\"=\") if l == c else print(\"L is smaller than C\")\n",
        "print(\"P\") if p > b else print(\"=\") if p == b else print(\"P is smaller than B\")\n"
      ],
      "execution_count": 0,
      "outputs": [
        {
          "output_type": "stream",
          "text": [
            "B is bigger than A\n",
            "B is bigger than A\n",
            "L and C are equal.\n",
            "Execute Expression.\n",
            "L is bigger than C\n",
            "L\n",
            "=\n",
            "P is smaller than B\n"
          ],
          "name": "stdout"
        }
      ]
    },
    {
      "cell_type": "markdown",
      "metadata": {
        "id": "M7P4PNBBPTWs",
        "colab_type": "text"
      },
      "source": [
        "**Python Loop**"
      ]
    },
    {
      "cell_type": "code",
      "metadata": {
        "id": "1OKjKlRxPXQ5",
        "colab_type": "code",
        "outputId": "682c1460-4cd9-454c-c5e9-932845ebfbfe",
        "colab": {
          "base_uri": "https://localhost:8080/",
          "height": 697
        }
      },
      "source": [
        "import time\n",
        "\n",
        "# for loop\n",
        "# 'for' iterate an iteratable object, for example range\n",
        "# if it's not define range start from 0 and end at n - 1\n",
        "sum = 0\n",
        "\n",
        "for i in range(5):\n",
        "  # to print element in one line instead of multiple line we can use the following way to print element in one line\n",
        "  print(i , end=\" \")\n",
        "  sum += i\n",
        "  print(sum)\n",
        "\n",
        "for i in range(10):\n",
        "  print(\"-\", end=\" \")\n",
        "  # time function, to rest for 1 second after each print\n",
        "  time.sleep(1)\n",
        "\n",
        "print()\n",
        "\n",
        "for i in range(0, 30):\n",
        "  if i % 2 == 0:\n",
        "    print(\"Even\")\n",
        "  else:\n",
        "    print(\"Odd\")\n",
        "\n",
        "print()\n",
        "\n",
        "# while loop\n",
        "z = 0 \n",
        "while(z < 10):\n",
        "  print(z, end=\" \")\n",
        "  z +=1\n",
        "\n",
        "print(\"\\n\")\n",
        "\n",
        "user_name = \"Here you can see the future\"\n",
        "\n",
        "for h in user_name:\n",
        "  print(h, end=\" \")\n",
        "  time.sleep(1)"
      ],
      "execution_count": 1,
      "outputs": [
        {
          "output_type": "stream",
          "text": [
            "0 0\n",
            "1 1\n",
            "2 3\n",
            "3 6\n",
            "4 10\n",
            "- - - - - - - - - - \n",
            "Even\n",
            "Odd\n",
            "Even\n",
            "Odd\n",
            "Even\n",
            "Odd\n",
            "Even\n",
            "Odd\n",
            "Even\n",
            "Odd\n",
            "Even\n",
            "Odd\n",
            "Even\n",
            "Odd\n",
            "Even\n",
            "Odd\n",
            "Even\n",
            "Odd\n",
            "Even\n",
            "Odd\n",
            "Even\n",
            "Odd\n",
            "Even\n",
            "Odd\n",
            "Even\n",
            "Odd\n",
            "Even\n",
            "Odd\n",
            "Even\n",
            "Odd\n",
            "\n",
            "0 1 2 3 4 5 6 7 8 9 \n",
            "\n",
            "H e r e   y o u   c a n   s e e   t h e   f u t u r e "
          ],
          "name": "stdout"
        }
      ]
    },
    {
      "cell_type": "markdown",
      "metadata": {
        "id": "ROtQQ85UaaPv",
        "colab_type": "text"
      },
      "source": [
        "**Python function**"
      ]
    },
    {
      "cell_type": "code",
      "metadata": {
        "id": "Cmn1oermaW9W",
        "colab_type": "code",
        "colab": {
          "base_uri": "https://localhost:8080/",
          "height": 238
        },
        "outputId": "910fcc98-06d5-4b3d-ca90-efab7b7e8811"
      },
      "source": [
        "def message():\n",
        "  print(\"Message one By calling function.\")\n",
        "\n",
        "message()\n",
        "\n",
        "def welcome_message(fname):\n",
        "  print(\"Dear \" +  fname + \" welcome to the application.\")\n",
        "\n",
        "welcome_message(\"Negar\")\n",
        "\n",
        "def contact_info(email, phone_number):\n",
        "  print(\"Email: \" + email + \"\\tPhone: \" + phone_number)\n",
        "\n",
        "contact_info(\"panahandehpooya@gmail.com\", \"00123487698\")\n",
        "\n",
        "# passing multiple argument to one function.\n",
        "def fav_child(*kids):\n",
        "  print(\"the fav child of family is \" + kids[1])\n",
        "\n",
        "fav_child(\"Pouya\", \"Mohammad\")\n",
        "\n",
        "# passing arguments with the key = value syntax\n",
        "def my_function(child3, child2, child1):\n",
        "  print(\"The youngest child is \" + child1)\n",
        "\n",
        "my_function(child1=\"Pouya\", child2=\"Mohammad\", child3=\"Bozorgmehr\")\n",
        "\n",
        "# passing dictionary of arguments\n",
        "def multi_func(**kid):\n",
        "  print(\"User information: \" + kid[\"first_name\"] + \" \" + kid[\"last_name\"])\n",
        "\n",
        "multi_func(first_name=\"Pouya\", last_name=\"Panahandeh\")\n",
        "\n",
        "# function with default value\n",
        "def user_function(country = \"Iran\"):\n",
        "  print(\"I am from \" + country)\n",
        "\n",
        "user_function()\n",
        "user_function(\"Isfahan\")\n",
        "user_function(\"Tehran \\n\")\n",
        "\n",
        "\n",
        "# passing list as an argument in function\n",
        "def new_function(food):\n",
        "  for item in food:\n",
        "    print(item, end=\" , \")\n",
        "\n",
        "# creating list of fruits\n",
        "fruits = [\"Apple\", \"Orange\", \"Banana\"]\n",
        "new_function(fruits)\n",
        "\n",
        "\n",
        "def return_function(x):\n",
        "  return x * 5\n",
        "\n",
        "print(\"\\n\")\n",
        "print(return_function(5))"
      ],
      "execution_count": 12,
      "outputs": [
        {
          "output_type": "stream",
          "text": [
            "Message one By calling function.\n",
            "Dear Negar welcome to the application.\n",
            "Email: panahandehpooya@gmail.com\tPhone: 00123487698\n",
            "the fav child of family is Mohammad\n",
            "The youngest child is Pouya\n",
            "User information: Pouya Panahandeh\n",
            "I am from Iran\n",
            "I am from Isfahan\n",
            "I am from Tehran \n",
            "\n",
            "Apple , Orange , Banana , \n",
            "\n",
            "25\n"
          ],
          "name": "stdout"
        }
      ]
    },
    {
      "cell_type": "markdown",
      "metadata": {
        "id": "uI6YZQ1W-Bac",
        "colab_type": "text"
      },
      "source": [
        "**Python List**"
      ]
    },
    {
      "cell_type": "code",
      "metadata": {
        "id": "vXrrUPlQ-Fi2",
        "colab_type": "code",
        "colab": {
          "base_uri": "https://localhost:8080/",
          "height": 459
        },
        "outputId": "6129568b-4bfc-4e1c-c8c9-6bbeccb24475"
      },
      "source": [
        "# List is a collection which is ordered and changeable.\n",
        "\n",
        "\n",
        "list_one = [\"esfahan\", \"tehran\", \"semnan\"]\n",
        "# print whole list\n",
        "print(list_one)\n",
        "\n",
        "# print specific element by their index number\n",
        "print(list_one[1])\n",
        "\n",
        "# print the last element of the list\n",
        "print(list_one[-1])\n",
        "\n",
        "list_two = [\"apple\", \"banana\", \"cherry\", \"orange\", \"kiwi\", \"melon\", \"mango\"]\n",
        "# printing element that their index number is in the interval that mentioned\n",
        "print(list_two[2:4])\n",
        "\n",
        "# change value in list by using their index\n",
        "print(list_two)\n",
        "list_two[1] = \"moz\"\n",
        "print(list_two)\n",
        "\n",
        "# Loop through list\n",
        "for i in list_two:\n",
        "  print(i, end=\"\\t\")\n",
        "\n",
        "# check if an item existing in loop\n",
        "if \"moz\" in list_two:\n",
        "  print(\"\\nmoz is one of the item in the list.\")\n",
        "\n",
        "print(len(list_two))\n",
        "print(len(list_one))\n",
        "\n",
        "# adding an element to the list\n",
        "list_one.append(\"shiraz\")\n",
        "print(list_one)\n",
        "\n",
        "# append list to another list\n",
        "list_one.append(list_two)\n",
        "print(list_one)\n",
        "\n",
        "# adding element to list by using the index number\n",
        "list_one.insert(1, \"Isfahan\")\n",
        "print(list_one)\n",
        "\n",
        "# remove element from the list\n",
        "list_one.remove(\"Isfahan\")\n",
        "print(list_one)\n",
        "\n",
        "# remove element from list by indexing number\n",
        "list_one.remove(list_one[2])\n",
        "print(list_one)\n",
        "\n",
        "# deleting the element from list by their index\n",
        "del list_two[1]\n",
        "print(list_two)\n",
        "\n",
        "# by using pop method, we remove the element from end of the list\n",
        "list_two.pop()\n",
        "print(list_two)\n",
        "\n",
        "list_three = list_one + list_two\n",
        "print(list_three)\n",
        "del list_three\n",
        "# print(list_three) this one return errors, because the list is doesn't exist\n",
        "\n",
        "# clear the elements of the list and print [] (an empty list)\n",
        "list_two.clear()\n",
        "print(list_two)\n",
        "\n",
        "# copy list \n",
        "list_one_copy = list_one.copy()\n",
        "print(list_one_copy)\n",
        "\n",
        "# copy list by using list()\n",
        "list_four = [\"Adam\", \"Daniel\", \"Bruno\", \"Sean\", \"Wadie\", \"Tien\", \"Gergo\", \"Gabor\"]\n",
        "name_list = list(list_four)\n",
        "print(name_list)\n",
        "\n",
        "# creating list by using list()\n",
        "my_list = list((\"Apple\", \"Orange\", \"Melon\"))\n",
        "print(my_list)\n",
        "print(type(my_list))  # will return <class 'list'\n",
        "\n",
        "\n",
        "number_list = [1, 2, 3, 4, 5, 6, 7, 8]\n",
        "\n",
        "for z in number_list:\n",
        "  name_list.append(z)\n",
        "\n",
        "print(name_list)\n",
        "\n",
        "# by extend we can add elements of one list at the end of the other one\n",
        "list_five = [10,11,12,13,14,15]\n",
        "list_six = ['a', 'b', 'c']\n",
        "\n",
        "list_five.extend(list_six)\n",
        "print(list_five)\n",
        "\n",
        "# using the list() constructor to make a List:\n",
        "country_list = list((\"Norway\", \"Sweden\", \"France\", \"Netherland\"))\n",
        "print(country_list)"
      ],
      "execution_count": 52,
      "outputs": [
        {
          "output_type": "stream",
          "text": [
            "['esfahan', 'tehran', 'semnan']\n",
            "tehran\n",
            "semnan\n",
            "['cherry', 'orange']\n",
            "['apple', 'banana', 'cherry', 'orange', 'kiwi', 'melon', 'mango']\n",
            "['apple', 'moz', 'cherry', 'orange', 'kiwi', 'melon', 'mango']\n",
            "apple\tmoz\tcherry\torange\tkiwi\tmelon\tmango\t\n",
            "moz is one of the item in the list.\n",
            "7\n",
            "3\n",
            "['esfahan', 'tehran', 'semnan', 'shiraz']\n",
            "['esfahan', 'tehran', 'semnan', 'shiraz', ['apple', 'moz', 'cherry', 'orange', 'kiwi', 'melon', 'mango']]\n",
            "['esfahan', 'Isfahan', 'tehran', 'semnan', 'shiraz', ['apple', 'moz', 'cherry', 'orange', 'kiwi', 'melon', 'mango']]\n",
            "['esfahan', 'tehran', 'semnan', 'shiraz', ['apple', 'moz', 'cherry', 'orange', 'kiwi', 'melon', 'mango']]\n",
            "['esfahan', 'tehran', 'shiraz', ['apple', 'moz', 'cherry', 'orange', 'kiwi', 'melon', 'mango']]\n",
            "['apple', 'cherry', 'orange', 'kiwi', 'melon', 'mango']\n",
            "['apple', 'cherry', 'orange', 'kiwi', 'melon']\n",
            "['esfahan', 'tehran', 'shiraz', ['apple', 'cherry', 'orange', 'kiwi', 'melon'], 'apple', 'cherry', 'orange', 'kiwi', 'melon']\n",
            "[]\n",
            "['esfahan', 'tehran', 'shiraz', []]\n",
            "['Adam', 'Daniel', 'Bruno', 'Sean', 'Wadie', 'Tien', 'Gergo', 'Gabor']\n",
            "['Apple', 'Orange', 'Melon']\n",
            "<class 'list'>\n",
            "['Adam', 'Daniel', 'Bruno', 'Sean', 'Wadie', 'Tien', 'Gergo', 'Gabor', 1, 2, 3, 4, 5, 6, 7, 8]\n",
            "[10, 11, 12, 13, 14, 15, 'a', 'b', 'c']\n",
            "['Norway', 'Sweden', 'France', 'Netherland']\n"
          ],
          "name": "stdout"
        }
      ]
    },
    {
      "cell_type": "markdown",
      "metadata": {
        "id": "EW1FAJRupla6",
        "colab_type": "text"
      },
      "source": [
        "**Python Tuples**"
      ]
    },
    {
      "cell_type": "code",
      "metadata": {
        "id": "X6NMy98DpqC2",
        "colab_type": "code",
        "colab": {
          "base_uri": "https://localhost:8080/",
          "height": 170
        },
        "outputId": "2da279ec-93d9-4fc5-8919-d430f71876d5"
      },
      "source": [
        "# A tuple is a collection which is ordered and unchangeable.\n",
        "# In Python tuples are written with round brackets.\n",
        "\n",
        "tuple_one = (\"apple\", \"melon\", \"mango\", \"orange\")\n",
        "print(tuple_one)\n",
        "\n",
        "# tuple are not unchangeable, it means we can not use remove, insert or etc.\n",
        "# to change the value of tuple we need to make list, do the operation and turn it to tuple again\n",
        "\n",
        "# by list() constructor we create the list from tuple\n",
        "list_from_tuple = list(tuple_one)\n",
        "print(list_from_tuple)\n",
        "\n",
        "list_from_tuple.remove(\"orange\")\n",
        "print(list_from_tuple)\n",
        "\n",
        "# use tuple(), to create tuple from list\n",
        "tuple_one = tuple(list_from_tuple)\n",
        "print(tuple_one)\n",
        "\n",
        "# loop through the tuple\n",
        "for item in tuple_one:\n",
        "  print(item, end=\" , \")\n",
        "print()\n",
        "\n",
        "# check the type and see which one is count as tuple and which not\n",
        "this_tuple = (\"Apple\", )\n",
        "print(type(this_tuple)) # return <class 'tuple'>\n",
        "\n",
        "this_is_not_tuple = (\"Melon\")\n",
        "print(type(this_is_not_tuple))  # return <class 'str'>, it's not tuple\n",
        "\n",
        "tuple_maker = tuple((\"Apple\", \"Melon\", \"Orange\", \"Mango\"))\n",
        "print(type(tuple_maker))\n",
        "print(tuple_maker)"
      ],
      "execution_count": 54,
      "outputs": [
        {
          "output_type": "stream",
          "text": [
            "('apple', 'melon', 'mango', 'orange')\n",
            "['apple', 'melon', 'mango', 'orange']\n",
            "['apple', 'melon', 'mango']\n",
            "('apple', 'melon', 'mango')\n",
            "apple , melon , mango , \n",
            "<class 'tuple'>\n",
            "<class 'str'>\n",
            "<class 'tuple'>\n",
            "('Apple', 'Melon', 'Orange', 'Mango')\n"
          ],
          "name": "stdout"
        }
      ]
    },
    {
      "cell_type": "markdown",
      "metadata": {
        "id": "2tp8xkOJ6r5d",
        "colab_type": "text"
      },
      "source": [
        "**Python Set**"
      ]
    },
    {
      "cell_type": "code",
      "metadata": {
        "id": "4tfKW6tG6rOm",
        "colab_type": "code",
        "colab": {
          "base_uri": "https://localhost:8080/",
          "height": 289
        },
        "outputId": "0eec0980-63f0-460d-c2a7-ef383a9016be"
      },
      "source": [
        "# A set is a collection which is unordered and unindexed.\n",
        "# In Python sets are written with curly brackets.\n",
        "\n",
        "set_one = {\"pooya\", \"Mohammad\", \"Pari\", \"Masih\"}\n",
        "print(type(set_one)) # will print <class 'set'>\n",
        "\n",
        "# print whole set\n",
        "print(set_one)\n",
        "\n",
        "# loop through set\n",
        "for i in set_one:\n",
        "  print(i, end=\" , \")\n",
        "\n",
        "print()\n",
        "\n",
        "# return boolean if element exist in set\n",
        "print(\"True\") if \"Masih\" in set_one else print(false)\n",
        "\n",
        "# return boolean value like above\n",
        "print(\"Pari\" in set_one)\n",
        "\n",
        "set_one.add(\"Mahdi\")\n",
        "print(set_one)\n",
        "\n",
        "\n",
        "set_two = {\"Negar\", \"Ehsan\", \"Farnaz\"}\n",
        "set_one.update(set_two)\n",
        "print(set_one)\n",
        "print(type(set_one))\n",
        "print(len(set_one))\n",
        "\n",
        "set_one.remove(\"pooya\")\n",
        "print(set_one)\n",
        "\n",
        "# we also can remove element by discard()\n",
        "set_one.discard(\"Mohammad\")\n",
        "print(set_one)\n",
        "\n",
        "# removin element by using pop method\n",
        "set_one.pop()\n",
        "print(set_one)\n",
        "\n",
        "# we can clear set by using clear method\n",
        "set_one.clear()\n",
        "print(set_one)\n",
        "\n",
        "# \n",
        "set_two = {\"a\", \"b\" , \"c\"}\n",
        "set_three = {1, 2, 3}\n",
        "\n",
        "# set_four = set_two + set_three we can not use this method to join two sets\n",
        "set_four = set_two.union(set_three)\n",
        "print(set_four)\n",
        "\n",
        "# adding one ser to each other\n",
        "set_one.update(set_two)\n",
        "# because we clear the set one previously, we only see the element of set two\n",
        "print(set_one)\n",
        "\n",
        "# creating set by using set constructor\n",
        "thisset = set((\"apple\", \"banana\", \"cherry\")) # note the double round-brackets\n",
        "print(thisset)"
      ],
      "execution_count": 83,
      "outputs": [
        {
          "output_type": "stream",
          "text": [
            "<class 'set'>\n",
            "{'Masih', 'pooya', 'Pari', 'Mohammad'}\n",
            "Masih , pooya , Pari , Mohammad , \n",
            "True\n",
            "True\n",
            "{'Mohammad', 'Pari', 'Mahdi', 'Masih', 'pooya'}\n",
            "{'Mohammad', 'Negar', 'Ehsan', 'Pari', 'Mahdi', 'Masih', 'pooya', 'Farnaz'}\n",
            "<class 'set'>\n",
            "8\n",
            "{'Mohammad', 'Negar', 'Ehsan', 'Pari', 'Mahdi', 'Masih', 'Farnaz'}\n",
            "{'Negar', 'Ehsan', 'Pari', 'Mahdi', 'Masih', 'Farnaz'}\n",
            "{'Ehsan', 'Pari', 'Mahdi', 'Masih', 'Farnaz'}\n",
            "set()\n",
            "{'a', 1, 2, 3, 'b', 'c'}\n",
            "{'c', 'a', 'b'}\n",
            "{'cherry', 'banana', 'apple'}\n"
          ],
          "name": "stdout"
        }
      ]
    },
    {
      "cell_type": "markdown",
      "metadata": {
        "id": "HBXSwJVqZmfl",
        "colab_type": "text"
      },
      "source": [
        "**Python dictionary**"
      ]
    },
    {
      "cell_type": "code",
      "metadata": {
        "id": "bjAqW6mVZqfk",
        "colab_type": "code",
        "colab": {
          "base_uri": "https://localhost:8080/",
          "height": 425
        },
        "outputId": "c46bfb76-09f4-425f-b5b6-8ae215f1986c"
      },
      "source": [
        "dict_one = {\n",
        "    \"brand\": \"Ford\",\n",
        "    \"model\": \"Mustang\",\n",
        "    \"year\": 1992\n",
        "\n",
        "}\n",
        "\n",
        "# print whole dictionary\n",
        "print(dict_one)\n",
        "\n",
        "# printing the value of specific key\n",
        "print(dict_one[\"model\"]) \n",
        "\n",
        "# we can use get() to do the same thing as above\n",
        "print(dict_one.get(\"year\"))\n",
        "\n",
        "# change the value by key\n",
        "dict_one[\"model\"] = \"Focus\"\n",
        "print(dict_one)\n",
        "\n",
        "for item in dict_one:\n",
        "  # following line will print the key\n",
        "  print(item)\n",
        "  # following line will print the value\n",
        "  print(dict_one[item])\n",
        "\n",
        "print(\"There is another way to print the values of dictionary\")\n",
        "# by following command we can print all the value of dictionary\n",
        "for item in dict_one.values():\n",
        "  print(item)\n",
        "\n",
        "# length of the dictionary\n",
        "print(len(dict_one))\n",
        "\n",
        "# adding new key and value into the dictionary\n",
        "dict_one[\"color\"] = \"black\"\n",
        "print(dict_one)\n",
        "\n",
        "# copy dictionary\n",
        "car_data = dict_one.copy()\n",
        "print(car_data)\n",
        "\n",
        "# creating new dictionary by dict keyword\n",
        "car_info = dict(dict_one)\n",
        "print(car_info)\n",
        "print(type(car_info))\n",
        "\n",
        "# pop() element from dictionary\n",
        "dict_one.pop(\"color\")\n",
        "print(dict_one)\n",
        "\n",
        "dict_one.popitem()\n",
        "print(dict_one)\n",
        "\n",
        "# delete element from dictionary by del keyword\n",
        "del dict_one[\"model\"]\n",
        "print(dict_one)\n",
        "\n",
        "# deletin whole dictionaries elements\n",
        "dict_one.clear()\n",
        "print(dict_one)\n",
        "\n",
        "dict_two = dict(brand=\"Ford\", model=\"Mustang\", year=1964)\n",
        "# note that keywords are not string literals\n",
        "# note the use of equals rather than colon for the assignment\n",
        "print(dict_two)"
      ],
      "execution_count": 117,
      "outputs": [
        {
          "output_type": "stream",
          "text": [
            "{'brand': 'Ford', 'model': 'Mustang', 'year': 1992}\n",
            "Mustang\n",
            "1992\n",
            "{'brand': 'Ford', 'model': 'Focus', 'year': 1992}\n",
            "brand\n",
            "Ford\n",
            "model\n",
            "Focus\n",
            "year\n",
            "1992\n",
            "There is another way to print the values of dictionary\n",
            "Ford\n",
            "Focus\n",
            "1992\n",
            "3\n",
            "{'brand': 'Ford', 'model': 'Focus', 'year': 1992, 'color': 'black'}\n",
            "{'brand': 'Ford', 'model': 'Focus', 'year': 1992, 'color': 'black'}\n",
            "{'brand': 'Ford', 'model': 'Focus', 'year': 1992, 'color': 'black'}\n",
            "<class 'dict'>\n",
            "{'brand': 'Ford', 'model': 'Focus', 'year': 1992}\n",
            "{'brand': 'Ford', 'model': 'Focus'}\n",
            "{'brand': 'Ford'}\n",
            "{}\n",
            "{'brand': 'Ford', 'model': 'Mustang', 'year': 1964}\n"
          ],
          "name": "stdout"
        }
      ]
    }
  ]
}